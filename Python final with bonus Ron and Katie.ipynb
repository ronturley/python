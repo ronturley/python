{
 "cells": [
  {
   "cell_type": "code",
   "execution_count": 221,
   "metadata": {},
   "outputs": [],
   "source": [
    "import pandas as pd# Importing tabs as separate dataframes\n",
    "import numpy as np\n",
    "import matplotlib.pyplot as plt\n",
    "import seaborn as sns\n",
    "\n",
    "import matplotlib.image as mpl\n",
    "from scipy import stats"
   ]
  },
  {
   "cell_type": "markdown",
   "metadata": {},
   "source": [
    "# Does the Test Prep Course Improve Test Scores "
   ]
  },
  {
   "cell_type": "markdown",
   "metadata": {},
   "source": [
    "## Merging Tables"
   ]
  },
  {
   "cell_type": "code",
   "execution_count": 222,
   "metadata": {},
   "outputs": [],
   "source": [
    "# Importing tabs as separate dataframes\n",
    "NewYork = pd.read_excel(r'C:\\Users\\Ron\\Documents\\St Lawrence\\Business Analytics\\Semester 1\\Analytic Programming ADMN 5018\\dataset from Ahsan.xlsx',skiprows = 10,sheet_name = 'Newyork City Dataset')\n",
    "Albany = pd.read_excel(r'C:\\Users\\Ron\\Documents\\St Lawrence\\Business Analytics\\Semester 1\\Analytic Programming ADMN 5018\\dataset from Ahsan.xlsx',skiprows = 2,sheet_name = 'Albany Dataset')\n"
   ]
  },
  {
   "cell_type": "code",
   "execution_count": 223,
   "metadata": {},
   "outputs": [],
   "source": [
    "# Creating 'City' column.\n",
    "\n",
    "Albany['City']='Albany'\n",
    "NewYork['City']='NYC'"
   ]
  },
  {
   "cell_type": "code",
   "execution_count": 224,
   "metadata": {},
   "outputs": [
    {
     "data": {
      "text/plain": [
       "Index(['Student Code', 'race/ethnicity (self declared on form)',\n",
       "       '   parental level of education   ', 'lunch',\n",
       "       'test preparation course     ', '     Math score revised',\n",
       "       'reading Score', 'writing score', 'Math Test Exemption Date', 'City'],\n",
       "      dtype='object')"
      ]
     },
     "execution_count": 224,
     "metadata": {},
     "output_type": "execute_result"
    }
   ],
   "source": [
    "# deleting \"Agencey Location\" that had only one element in each\n",
    "\n",
    "AL=Albany.drop(columns='Agency Location')\n",
    "NY=NewYork.drop(columns='Agency Location')\n",
    "NY.columns #shows columns in NY to see where the spaces are and to compare to the columns in AL"
   ]
  },
  {
   "cell_type": "markdown",
   "metadata": {},
   "source": [
    "### Making Column Headers equal in both Tables"
   ]
  },
  {
   "cell_type": "code",
   "execution_count": 225,
   "metadata": {},
   "outputs": [
    {
     "data": {
      "text/plain": [
       "Index(['Student Code', 'race/ethnicity', 'Parental level of education',\n",
       "       'lunch ', 'test preparation course', '     math score revised',\n",
       "       'reading Score', 'writing score  ', 'Math Test Exemption Date', 'City'],\n",
       "      dtype='object')"
      ]
     },
     "execution_count": 225,
     "metadata": {},
     "output_type": "execute_result"
    }
   ],
   "source": [
    "# spaces eliminated, all letters to no caps, shorten some others\n",
    "\n",
    "NY=NY.rename(columns={'lunch':'Lunch','   parental level of education   ':'Parent Ed',\n",
    "                  'race/ethnicity (self declared on form)':'Race/Ethnicity',\n",
    "                   'test preparation course     ':'Test Prep',\n",
    "                   '     Math score revised':'Math Score',\n",
    "                  'writing score':'Writing Score',\n",
    "                  'reading Score':'Reading Score'})\n",
    "AL.columns"
   ]
  },
  {
   "cell_type": "code",
   "execution_count": 226,
   "metadata": {},
   "outputs": [],
   "source": [
    "# spaces eliminated, all letters to no caps, shorten some others. Make AL.columns = to NY.columns\n",
    "\n",
    "AL=AL.rename(columns={'lunch ':'Lunch','Parental level of education':'Parent Ed',\n",
    "                  'race/ethnicity':'Race/Ethnicity',\n",
    "                   'test preparation course':'Test Prep',\n",
    "                   '     math score revised':'Math Score',\n",
    "                  'writing score  ':'Writing Score',\n",
    "                  'reading Score':'Reading Score'})\n"
   ]
  },
  {
   "cell_type": "markdown",
   "metadata": {},
   "source": [
    "### Actual merging of two datasets into CleanSDF"
   ]
  },
  {
   "cell_type": "code",
   "execution_count": 227,
   "metadata": {},
   "outputs": [],
   "source": [
    "# Merge Tables NY and AL into CleanSDF\n",
    "\n",
    "frames=[NY,AL]\n",
    "CleanSDF=pd.concat(frames, sort=False)"
   ]
  },
  {
   "cell_type": "markdown",
   "metadata": {},
   "source": [
    "## Establishing and populate Gender column"
   ]
  },
  {
   "cell_type": "code",
   "execution_count": 228,
   "metadata": {},
   "outputs": [],
   "source": [
    "#Convert 'Student Code' from numeric to string\n",
    "\n",
    "CleanSDF['Student Code']=CleanSDF['Student Code'].astype(str)\n"
   ]
  },
  {
   "cell_type": "code",
   "execution_count": 229,
   "metadata": {},
   "outputs": [],
   "source": [
    "# Create Genter Column, set all values to 'male'\n",
    "\n",
    "CleanSDF['Gender']='male'\n"
   ]
  },
  {
   "cell_type": "code",
   "execution_count": 230,
   "metadata": {},
   "outputs": [],
   "source": [
    "# Where the last Character in Student Code = 2, change Genger to 'female'\n",
    "\n",
    "i=0\n",
    "for x in CleanSDF['Student Code']:  #last digit in Student Code: 1 = male\n",
    "    if x.endswith('2'):\n",
    "        CleanSDF.iloc[i,10]='female'\n",
    "        #print (x)\n",
    "    i=i+1\n"
   ]
  },
  {
   "cell_type": "markdown",
   "metadata": {},
   "source": [
    "## Establish and calculate Average Score column"
   ]
  },
  {
   "cell_type": "code",
   "execution_count": 231,
   "metadata": {},
   "outputs": [],
   "source": [
    "# Creat Avg Score column, set to 0\n",
    "\n",
    "CleanSDF['Avg Score']=0"
   ]
  },
  {
   "cell_type": "markdown",
   "metadata": {},
   "source": [
    "### Change letter scores of 'F' to arbitrarily chosen numberic score of 45"
   ]
  },
  {
   "cell_type": "code",
   "execution_count": 232,
   "metadata": {},
   "outputs": [],
   "source": [
    "# Change scores of 'F' in Math Score to 45.\n",
    "\n",
    "i=0\n",
    "for x in CleanSDF['Math Score']:  # change F to score of 45\n",
    "    if x=='F':\n",
    "        CleanSDF.iloc[i,5]=45\n",
    "    i=i+1"
   ]
  },
  {
   "cell_type": "code",
   "execution_count": 233,
   "metadata": {},
   "outputs": [],
   "source": [
    "# Change scores of 'F' in Writing Score to 45.\n",
    "\n",
    "i=0\n",
    "for x in CleanSDF['Writing Score']:  \n",
    "    if x=='F':\n",
    "        CleanSDF.iloc[i,7]=45\n",
    "    i=i+1\n"
   ]
  },
  {
   "cell_type": "code",
   "execution_count": 234,
   "metadata": {},
   "outputs": [],
   "source": [
    "# Change scores of 'F' in Reading Score to 45.\n",
    "\n",
    "i=0\n",
    "for x in CleanSDF['Reading Score']:  \n",
    "    if x=='F':\n",
    "        CleanSDF.iloc[i,6]=45\n",
    "        #print(CleanSDF.iloc[i,7])\n",
    "    i=i+1\n"
   ]
  },
  {
   "cell_type": "code",
   "execution_count": 235,
   "metadata": {},
   "outputs": [],
   "source": [
    "# Calculate average over all scores. Do not include Math Score if Exempt. ie if Math Exemption Date not null.\n",
    "\n",
    "i=0\n",
    "for x in CleanSDF['Math Test Exemption Date']:  #checks to see if the there is a date os exemption\n",
    "    if pd.notnull(x):\n",
    "        CleanSDF.iloc[i,11]=(CleanSDF.iloc[i,6]+CleanSDF.iloc[i,7])/2 # if True, find average of Reading and Writing\n",
    "    else:\n",
    "        CleanSDF.iloc[i,11]=(CleanSDF.iloc[i,5]+CleanSDF.iloc[i,6]+CleanSDF.iloc[i,7])/3 # if not, use all three scores in average\n",
    "    i=i+1\n",
    "\n",
    "  \n"
   ]
  },
  {
   "cell_type": "markdown",
   "metadata": {},
   "source": [
    "## Meta Data"
   ]
  },
  {
   "cell_type": "code",
   "execution_count": 236,
   "metadata": {},
   "outputs": [
    {
     "data": {
      "text/plain": [
       "Student Code                 object\n",
       "Race/Ethnicity               object\n",
       "Parent Ed                    object\n",
       "Lunch                        object\n",
       "Test Prep                    object\n",
       "Math Score                   object\n",
       "Reading Score                 int64\n",
       "Writing Score                 int64\n",
       "Math Test Exemption Date     object\n",
       "City                         object\n",
       "Gender                       object\n",
       "Avg Score                   float64\n",
       "dtype: object"
      ]
     },
     "execution_count": 236,
     "metadata": {},
     "output_type": "execute_result"
    }
   ],
   "source": [
    "CleanSDF.dtypes #columns names and datatype\n"
   ]
  },
  {
   "cell_type": "code",
   "execution_count": 237,
   "metadata": {},
   "outputs": [
    {
     "data": {
      "text/plain": [
       "Student Code                 object\n",
       "Race/Ethnicity               object\n",
       "Parent Ed                    object\n",
       "Lunch                        object\n",
       "Test Prep                    object\n",
       "Math Score                    int64\n",
       "Reading Score                 int64\n",
       "Writing Score                 int64\n",
       "Math Test Exemption Date     object\n",
       "City                         object\n",
       "Gender                       object\n",
       "Avg Score                   float64\n",
       "dtype: object"
      ]
     },
     "execution_count": 237,
     "metadata": {},
     "output_type": "execute_result"
    }
   ],
   "source": [
    "# Math Score Type object due to blanks where no score due to exemption.\n",
    "i=0\n",
    "for x in CleanSDF['Math Test Exemption Date']:  #checks to see if the there is a date os exemption\n",
    "    if pd.notnull(x):\n",
    "        CleanSDF.iloc[i,5]=0 # sets element with no score or blanks to 0\n",
    "    i=i+1\n",
    "CleanSDF.dtypes #columns names and datatype to ensure Math Score int64"
   ]
  },
  {
   "cell_type": "code",
   "execution_count": 238,
   "metadata": {},
   "outputs": [
    {
     "data": {
      "text/plain": [
       "1466"
      ]
     },
     "execution_count": 238,
     "metadata": {},
     "output_type": "execute_result"
    }
   ],
   "source": [
    "#lenght of dataframe \n",
    "len(CleanSDF)"
   ]
  },
  {
   "cell_type": "code",
   "execution_count": 239,
   "metadata": {},
   "outputs": [
    {
     "data": {
      "text/plain": [
       "Student Code                1466\n",
       "Race/Ethnicity               401\n",
       "Parent Ed                   1466\n",
       "Lunch                       1466\n",
       "Test Prep                   1466\n",
       "Math Score                  1466\n",
       "Reading Score               1466\n",
       "Writing Score               1466\n",
       "Math Test Exemption Date      55\n",
       "City                        1466\n",
       "Gender                      1466\n",
       "Avg Score                   1466\n",
       "dtype: int64"
      ]
     },
     "execution_count": 239,
     "metadata": {},
     "output_type": "execute_result"
    }
   ],
   "source": [
    "#number of values per column\n",
    "CleanSDF.count()"
   ]
  },
  {
   "cell_type": "code",
   "execution_count": 240,
   "metadata": {},
   "outputs": [
    {
     "data": {
      "text/plain": [
       "(1466, 12)"
      ]
     },
     "execution_count": 240,
     "metadata": {},
     "output_type": "execute_result"
    }
   ],
   "source": [
    "CleanSDF.shape"
   ]
  },
  {
   "cell_type": "code",
   "execution_count": 241,
   "metadata": {},
   "outputs": [
    {
     "name": "stdout",
     "output_type": "stream",
     "text": [
      "<class 'pandas.core.frame.DataFrame'>\n",
      "Int64Index: 1466 entries, 0 to 465\n",
      "Data columns (total 12 columns):\n",
      "Student Code                1466 non-null object\n",
      "Race/Ethnicity              401 non-null object\n",
      "Parent Ed                   1466 non-null object\n",
      "Lunch                       1466 non-null object\n",
      "Test Prep                   1466 non-null object\n",
      "Math Score                  1466 non-null int64\n",
      "Reading Score               1466 non-null int64\n",
      "Writing Score               1466 non-null int64\n",
      "Math Test Exemption Date    55 non-null object\n",
      "City                        1466 non-null object\n",
      "Gender                      1466 non-null object\n",
      "Avg Score                   1466 non-null float64\n",
      "dtypes: float64(1), int64(3), object(8)\n",
      "memory usage: 188.9+ KB\n"
     ]
    }
   ],
   "source": [
    "info_return = CleanSDF.info()"
   ]
  },
  {
   "cell_type": "code",
   "execution_count": 242,
   "metadata": {},
   "outputs": [
    {
     "data": {
      "text/plain": [
       "Writing Score               1466\n",
       "Math Test Exemption Date      55\n",
       "City                        1466\n",
       "Gender                      1466\n",
       "Avg Score                   1466\n",
       "dtype: int64"
      ]
     },
     "execution_count": 242,
     "metadata": {},
     "output_type": "execute_result"
    }
   ],
   "source": [
    "#Return objects of info and count methods \n",
    "count_return = CleanSDF.count().tail()\n",
    "count_return"
   ]
  },
  {
   "cell_type": "code",
   "execution_count": 243,
   "metadata": {},
   "outputs": [
    {
     "data": {
      "text/html": [
       "<div>\n",
       "<style scoped>\n",
       "    .dataframe tbody tr th:only-of-type {\n",
       "        vertical-align: middle;\n",
       "    }\n",
       "\n",
       "    .dataframe tbody tr th {\n",
       "        vertical-align: top;\n",
       "    }\n",
       "\n",
       "    .dataframe thead th {\n",
       "        text-align: right;\n",
       "    }\n",
       "</style>\n",
       "<table border=\"1\" class=\"dataframe\">\n",
       "  <thead>\n",
       "    <tr style=\"text-align: right;\">\n",
       "      <th></th>\n",
       "      <th>Student Code</th>\n",
       "      <th>Race/Ethnicity</th>\n",
       "      <th>Parent Ed</th>\n",
       "      <th>Lunch</th>\n",
       "      <th>Test Prep</th>\n",
       "      <th>Math Score</th>\n",
       "      <th>Reading Score</th>\n",
       "      <th>Writing Score</th>\n",
       "      <th>Math Test Exemption Date</th>\n",
       "      <th>City</th>\n",
       "      <th>Gender</th>\n",
       "      <th>Avg Score</th>\n",
       "    </tr>\n",
       "  </thead>\n",
       "  <tbody>\n",
       "    <tr>\n",
       "      <th>0</th>\n",
       "      <td>False</td>\n",
       "      <td>False</td>\n",
       "      <td>False</td>\n",
       "      <td>False</td>\n",
       "      <td>False</td>\n",
       "      <td>False</td>\n",
       "      <td>False</td>\n",
       "      <td>False</td>\n",
       "      <td>True</td>\n",
       "      <td>False</td>\n",
       "      <td>False</td>\n",
       "      <td>False</td>\n",
       "    </tr>\n",
       "    <tr>\n",
       "      <th>1</th>\n",
       "      <td>False</td>\n",
       "      <td>True</td>\n",
       "      <td>False</td>\n",
       "      <td>False</td>\n",
       "      <td>False</td>\n",
       "      <td>False</td>\n",
       "      <td>False</td>\n",
       "      <td>False</td>\n",
       "      <td>True</td>\n",
       "      <td>False</td>\n",
       "      <td>False</td>\n",
       "      <td>False</td>\n",
       "    </tr>\n",
       "    <tr>\n",
       "      <th>2</th>\n",
       "      <td>False</td>\n",
       "      <td>True</td>\n",
       "      <td>False</td>\n",
       "      <td>False</td>\n",
       "      <td>False</td>\n",
       "      <td>False</td>\n",
       "      <td>False</td>\n",
       "      <td>False</td>\n",
       "      <td>True</td>\n",
       "      <td>False</td>\n",
       "      <td>False</td>\n",
       "      <td>False</td>\n",
       "    </tr>\n",
       "    <tr>\n",
       "      <th>3</th>\n",
       "      <td>False</td>\n",
       "      <td>True</td>\n",
       "      <td>False</td>\n",
       "      <td>False</td>\n",
       "      <td>False</td>\n",
       "      <td>False</td>\n",
       "      <td>False</td>\n",
       "      <td>False</td>\n",
       "      <td>True</td>\n",
       "      <td>False</td>\n",
       "      <td>False</td>\n",
       "      <td>False</td>\n",
       "    </tr>\n",
       "    <tr>\n",
       "      <th>4</th>\n",
       "      <td>False</td>\n",
       "      <td>False</td>\n",
       "      <td>False</td>\n",
       "      <td>False</td>\n",
       "      <td>False</td>\n",
       "      <td>False</td>\n",
       "      <td>False</td>\n",
       "      <td>False</td>\n",
       "      <td>False</td>\n",
       "      <td>False</td>\n",
       "      <td>False</td>\n",
       "      <td>False</td>\n",
       "    </tr>\n",
       "  </tbody>\n",
       "</table>\n",
       "</div>"
      ],
      "text/plain": [
       "   Student Code  Race/Ethnicity  Parent Ed  Lunch  Test Prep  Math Score  \\\n",
       "0         False           False      False  False      False       False   \n",
       "1         False            True      False  False      False       False   \n",
       "2         False            True      False  False      False       False   \n",
       "3         False            True      False  False      False       False   \n",
       "4         False           False      False  False      False       False   \n",
       "\n",
       "   Reading Score  Writing Score  Math Test Exemption Date   City  Gender  \\\n",
       "0          False          False                      True  False   False   \n",
       "1          False          False                      True  False   False   \n",
       "2          False          False                      True  False   False   \n",
       "3          False          False                      True  False   False   \n",
       "4          False          False                     False  False   False   \n",
       "\n",
       "   Avg Score  \n",
       "0      False  \n",
       "1      False  \n",
       "2      False  \n",
       "3      False  \n",
       "4      False  "
      ]
     },
     "execution_count": 243,
     "metadata": {},
     "output_type": "execute_result"
    }
   ],
   "source": [
    "#isna method returns a dataframe of all true/false values \n",
    "CleanSDF_missing = CleanSDF.isna()\n",
    "CleanSDF_missing.head()"
   ]
  },
  {
   "cell_type": "code",
   "execution_count": 244,
   "metadata": {},
   "outputs": [
    {
     "data": {
      "text/plain": [
       "Student Code                   0\n",
       "Race/Ethnicity              1065\n",
       "Parent Ed                      0\n",
       "Lunch                          0\n",
       "Test Prep                      0\n",
       "Math Score                     0\n",
       "Reading Score                  0\n",
       "Writing Score                  0\n",
       "Math Test Exemption Date    1411\n",
       "City                           0\n",
       "Gender                         0\n",
       "Avg Score                      0\n",
       "dtype: int64"
      ]
     },
     "execution_count": 244,
     "metadata": {},
     "output_type": "execute_result"
    }
   ],
   "source": [
    "#Summing a boolean dataframe \n",
    "CleanSDF_num_missing = CleanSDF_missing.sum()\n",
    "CleanSDF_num_missing\n",
    "\n",
    "#only Race and Math Test Exempt with missing data. As we are not considering race and we\n",
    "# we are accounting for Math exemption, this represents no problem"
   ]
  },
  {
   "cell_type": "code",
   "execution_count": 245,
   "metadata": {},
   "outputs": [
    {
     "data": {
      "text/plain": [
       "1466"
      ]
     },
     "execution_count": 245,
     "metadata": {},
     "output_type": "execute_result"
    }
   ],
   "source": [
    "#Number rows in dataset \n",
    "len(CleanSDF)"
   ]
  },
  {
   "cell_type": "markdown",
   "metadata": {},
   "source": [
    "# Clean up Parent Ed. Values are inconsistant"
   ]
  },
  {
   "cell_type": "code",
   "execution_count": 246,
   "metadata": {},
   "outputs": [],
   "source": [
    "# strip spaces from Parent Ed column\n",
    "i=0\n",
    "for x in CleanSDF['Parent Ed']:  \n",
    "    CleanSDF.iloc[i,2]=CleanSDF.iloc[i,2].strip()\n",
    "    i=i+1\n"
   ]
  },
  {
   "cell_type": "code",
   "execution_count": 247,
   "metadata": {},
   "outputs": [],
   "source": [
    "# modify strings in Perent Ed column to eliminate duplicats with capital letters\n",
    "i=0\n",
    "for x in CleanSDF['Parent Ed']:\n",
    "    if CleanSDF.iloc[i,2]==\"Associate's degree\":\n",
    "        CleanSDF.iloc[i,2]=\"associate's degree\"\n",
    "    if CleanSDF.iloc[i,2]==\"High school\":\n",
    "        CleanSDF.iloc[i,2]=\"high school\"\n",
    "    if CleanSDF.iloc[i,2]==\"some High school\":\n",
    "        CleanSDF.iloc[i,2]=\"some high school\"\n",
    "    if CleanSDF.iloc[i,2]==\"Some college\":\n",
    "        CleanSDF.iloc[i,2]=\"some college\"\n",
    "    if CleanSDF.iloc[i,2]==\"Master's degree\":\n",
    "        CleanSDF.iloc[i,2]=\"master's degree\"\n",
    "    if CleanSDF.iloc[i,2]==\"unknwon\":\n",
    "        CleanSDF.iloc[i,2]='unknown'\n",
    "    if CleanSDF.iloc[i,2]==\"\":\n",
    "        CleanSDF.iloc[i,2]='unknown'\n",
    "    i=i+1"
   ]
  },
  {
   "cell_type": "code",
   "execution_count": 248,
   "metadata": {},
   "outputs": [
    {
     "data": {
      "text/plain": [
       "Parent Ed\n",
       "associate's degree    315\n",
       "bachelor's degree     172\n",
       "high school           300\n",
       "master's degree        87\n",
       "some college          328\n",
       "some high school      259\n",
       "unknown                 5\n",
       "Name: Avg Score, dtype: int64"
      ]
     },
     "execution_count": 248,
     "metadata": {},
     "output_type": "execute_result"
    }
   ],
   "source": [
    "#Test to ensure no similarly names values\n",
    "\n",
    "CleanSDF.groupby('Parent Ed')['Avg Score'].count()"
   ]
  },
  {
   "cell_type": "code",
   "execution_count": 249,
   "metadata": {},
   "outputs": [
    {
     "data": {
      "text/plain": [
       "Parent Ed\n",
       "Level 1    564\n",
       "Level 2    643\n",
       "Level 3    259\n",
       "Name: Avg Score, dtype: int64"
      ]
     },
     "execution_count": 249,
     "metadata": {},
     "output_type": "execute_result"
    }
   ],
   "source": [
    "# merge Parent Ed into three levels for convenience\n",
    "\n",
    "i=0\n",
    "for x in CleanSDF['Parent Ed']:\n",
    "    if CleanSDF.iloc[i,2]==\"associate's degree\":\n",
    "        CleanSDF.iloc[i,2]='Level 2'\n",
    "    if CleanSDF.iloc[i,2]==\"high school\":\n",
    "        CleanSDF.iloc[i,2]=\"Level 1\"\n",
    "    if CleanSDF.iloc[i,2]==\"some high school\":\n",
    "        CleanSDF.iloc[i,2]=\"Level 1\"\n",
    "    if CleanSDF.iloc[i,2]==\"some college\":\n",
    "        CleanSDF.iloc[i,2]=\"Level 2\"\n",
    "    if CleanSDF.iloc[i,2]==\"master's degree\":\n",
    "        CleanSDF.iloc[i,2]=\"Level 3\"\n",
    "    if CleanSDF.iloc[i,2]==\"bachelor's degree\":\n",
    "        CleanSDF.iloc[i,2]='Level 3'\n",
    "    if CleanSDF.iloc[i,2]==\"unknown\":\n",
    "        CleanSDF.iloc[i,2]='Level 1'  # rename 'unknown' as there are only 5, class as Level 1 Parent Ed\n",
    "    i=i+1\n",
    "    \n",
    "CleanSDF.groupby('Parent Ed')['Avg Score'].count() #ensure all values changed  "
   ]
  },
  {
   "cell_type": "markdown",
   "metadata": {},
   "source": [
    "# Graphs"
   ]
  },
  {
   "cell_type": "code",
   "execution_count": 250,
   "metadata": {},
   "outputs": [
    {
     "data": {
      "image/png": "[encoded data removed]",
      "text/plain": [
       "<Figure size 432x288 with 1 Axes>"
      ]
     },
     "metadata": {
      "needs_background": "light"
     },
     "output_type": "display_data"
    }
   ],
   "source": [
    "ax = sns.boxplot(y=\"Parent Ed\", x=\"Avg Score\", data=CleanSDF)\n",
    "ax = sns.swarmplot(y=\"Parent Ed\", x=\"Avg Score\", data=CleanSDF, color=\".2\")"
   ]
  },
  {
   "cell_type": "code",
   "execution_count": 251,
   "metadata": {},
   "outputs": [
    {
     "data": {
      "text/plain": [
       "Text(0, 0.5, 'Parent Ed')"
      ]
     },
     "execution_count": 251,
     "metadata": {},
     "output_type": "execute_result"
    },
    {
     "data": {
      "image/png": "[encoded data removed]",
      "text/plain": [
       "<Figure size 432x288 with 1 Axes>"
      ]
     },
     "metadata": {
      "needs_background": "light"
     },
     "output_type": "display_data"
    }
   ],
   "source": [
    "#create figure and axis. Avg score vs Pareent Ed \n",
    "fig, ax = plt.subplots()\n",
    "\n",
    "#Scatter \n",
    "ax.scatter(CleanSDF['Avg Score'], CleanSDF['Parent Ed'])\n",
    "\n",
    "#Title and Labels\n",
    "ax.set_title('Parents Ed vs Avg Score')\n",
    "ax.set_xlabel('Avg Score')\n",
    "ax.set_ylabel('Parent Ed')"
   ]
  },
  {
   "cell_type": "code",
   "execution_count": 252,
   "metadata": {},
   "outputs": [
    {
     "data": {
      "text/plain": [
       "<matplotlib.axes._subplots.AxesSubplot at 0x286e2904cc0>"
      ]
     },
     "execution_count": 252,
     "metadata": {},
     "output_type": "execute_result"
    },
    {
     "data": {
      "image/png": "[encoded data removed]",
      "text/plain": [
       "<Figure size 432x288 with 1 Axes>"
      ]
     },
     "metadata": {
      "needs_background": "light"
     },
     "output_type": "display_data"
    }
   ],
   "source": [
    "#histogram of Avg Score\n",
    "CleanSDF['Avg Score'].plot.hist()"
   ]
  },
  {
   "cell_type": "code",
   "execution_count": 253,
   "metadata": {},
   "outputs": [
    {
     "data": {
      "text/plain": [
       "<seaborn.axisgrid.FacetGrid at 0x286e2949fd0>"
      ]
     },
     "execution_count": 253,
     "metadata": {},
     "output_type": "execute_result"
    },
    {
     "data": {
      "image/png": "[encoded data removed]",
      "text/plain": [
       "<Figure size 444.375x360 with 1 Axes>"
      ]
     },
     "metadata": {
      "needs_background": "light"
     },
     "output_type": "display_data"
    }
   ],
   "source": [
    "#Scatter plot of Reading vs Avg Score to see correlation.\n",
    "sns.relplot(x='Reading Score',y='Avg Score',data=CleanSDF,hue='Parent Ed')"
   ]
  },
  {
   "cell_type": "code",
   "execution_count": 254,
   "metadata": {},
   "outputs": [
    {
     "data": {
      "text/plain": [
       "<seaborn.axisgrid.FacetGrid at 0x286e2b07080>"
      ]
     },
     "execution_count": 254,
     "metadata": {},
     "output_type": "execute_result"
    },
    {
     "data": {
      "image/png": "[encoded data removed]",
      "text/plain": [
       "<Figure size 444.375x360 with 1 Axes>"
      ]
     },
     "metadata": {
      "needs_background": "light"
     },
     "output_type": "display_data"
    }
   ],
   "source": [
    "#Scatter plot of Reading vs Writing Score to see correlation.\n",
    "sns.relplot(x='Reading Score',y='Writing Score',data=CleanSDF,hue='Parent Ed')"
   ]
  },
  {
   "cell_type": "code",
   "execution_count": 255,
   "metadata": {
    "scrolled": false
   },
   "outputs": [
    {
     "data": {
      "text/plain": [
       "<seaborn.axisgrid.FacetGrid at 0x286e2c8b240>"
      ]
     },
     "execution_count": 255,
     "metadata": {},
     "output_type": "execute_result"
    },
    {
     "data": {
      "image/png": "[encoded data removed]",
      "text/plain": [
       "<Figure size 444.375x360 with 1 Axes>"
      ]
     },
     "metadata": {
      "needs_background": "light"
     },
     "output_type": "display_data"
    }
   ],
   "source": [
    "#Scatter plot of Math vs Reading score. Less correlaton than Reading and Avg\n",
    "sns.relplot(x='Reading Score',y='Math Score',data=CleanSDF,hue='Parent Ed')"
   ]
  },
  {
   "cell_type": "code",
   "execution_count": 256,
   "metadata": {},
   "outputs": [
    {
     "data": {
      "text/plain": [
       "<seaborn.axisgrid.FacetGrid at 0x286e3cd1eb8>"
      ]
     },
     "execution_count": 256,
     "metadata": {},
     "output_type": "execute_result"
    },
    {
     "data": {
      "image/png": "[encoded data removed]",
      "text/plain": [
       "<Figure size 444.375x360 with 1 Axes>"
      ]
     },
     "metadata": {
      "needs_background": "light"
     },
     "output_type": "display_data"
    }
   ],
   "source": [
    "#Scatter plot of Writing vs Reading score. high correlaton than Reading and Avg\n",
    "sns.relplot(x='Reading Score',y='Writing Score',data=CleanSDF,hue='Parent Ed')"
   ]
  },
  {
   "cell_type": "code",
   "execution_count": 257,
   "metadata": {},
   "outputs": [
    {
     "data": {
      "text/plain": [
       "<seaborn.axisgrid.FacetGrid at 0x286e3d0be48>"
      ]
     },
     "execution_count": 257,
     "metadata": {},
     "output_type": "execute_result"
    },
    {
     "data": {
      "image/png": "[encoded data removed]",
      "text/plain": [
       "<Figure size 360x360 with 1 Axes>"
      ]
     },
     "metadata": {
      "needs_background": "light"
     },
     "output_type": "display_data"
    }
   ],
   "source": [
    "sns.catplot(x='Parent Ed',y='Avg Score', kind='bar',data=CleanSDF,estimator=np.mean)"
   ]
  },
  {
   "cell_type": "markdown",
   "metadata": {},
   "source": [
    "## Find statistical means and standard deviations on various groupings"
   ]
  },
  {
   "cell_type": "code",
   "execution_count": 258,
   "metadata": {},
   "outputs": [
    {
     "data": {
      "text/plain": [
       "Parent Ed  Test Prep\n",
       "Level 1    completed    69.193069\n",
       "           none         62.627072\n",
       "Level 2    completed    74.438137\n",
       "           none         66.409420\n",
       "Level 3    completed    77.130952\n",
       "           none         70.269151\n",
       "Name: Avg Score, dtype: float64"
      ]
     },
     "execution_count": 258,
     "metadata": {},
     "output_type": "execute_result"
    }
   ],
   "source": [
    "#find means of Avg Score gouped by whether the student completed the test prep course or not and by Parent Ed.\n",
    "\n",
    "meansParEdTestPrep=CleanSDF.groupby(['Parent Ed','Test Prep'])['Avg Score'].mean()\n",
    "meansParEdTestPrep"
   ]
  },
  {
   "cell_type": "code",
   "execution_count": 259,
   "metadata": {},
   "outputs": [
    {
     "data": {
      "text/plain": [
       "Parent Ed  Test Prep\n",
       "Level 1    completed    12.933788\n",
       "           none         12.726566\n",
       "Level 2    completed    11.810318\n",
       "           none         13.037251\n",
       "Level 3    completed    13.226640\n",
       "           none         13.538321\n",
       "Name: Avg Score, dtype: float64"
      ]
     },
     "execution_count": 259,
     "metadata": {},
     "output_type": "execute_result"
    }
   ],
   "source": [
    "# Standard Deviation of Avg Score grouped by Parent Ed and Test Prep\n",
    "\n",
    "sdParEdTestPrep=CleanSDF.groupby(['Parent Ed','Test Prep'])['Avg Score'].std()\n",
    "sdParEdTestPrep"
   ]
  },
  {
   "cell_type": "code",
   "execution_count": 260,
   "metadata": {},
   "outputs": [
    {
     "data": {
      "text/plain": [
       "Parent Ed  Test Prep\n",
       "Level 1    completed    202\n",
       "           none         362\n",
       "Level 2    completed    229\n",
       "           none         414\n",
       "Level 3    completed     98\n",
       "           none         161\n",
       "Name: Avg Score, dtype: int64"
      ]
     },
     "execution_count": 260,
     "metadata": {},
     "output_type": "execute_result"
    }
   ],
   "source": [
    "numParEdTestPrep=CleanSDF.groupby(['Parent Ed','Test Prep'])['Avg Score'].count()\n",
    "numParEdTestPrep"
   ]
  },
  {
   "cell_type": "code",
   "execution_count": 261,
   "metadata": {},
   "outputs": [
    {
     "data": {
      "text/plain": [
       "Gender  Test Prep\n",
       "female  completed    74.314217\n",
       "        none         67.535762\n",
       "male    completed    71.394000\n",
       "        none         63.465388\n",
       "Name: Avg Score, dtype: float64"
      ]
     },
     "execution_count": 261,
     "metadata": {},
     "output_type": "execute_result"
    }
   ],
   "source": [
    "# mean of Avg Score grouped by Gender and Test Prep\n",
    "\n",
    "meansGenTestPrep=CleanSDF.groupby(['Gender','Test Prep'])['Avg Score'].mean()\n",
    "meansGenTestPrep"
   ]
  },
  {
   "cell_type": "code",
   "execution_count": 262,
   "metadata": {},
   "outputs": [
    {
     "data": {
      "text/plain": [
       "Gender  Test Prep\n",
       "female  completed    12.442130\n",
       "        none         13.626347\n",
       "male    completed    13.187903\n",
       "        none         12.545390\n",
       "Name: Avg Score, dtype: float64"
      ]
     },
     "execution_count": 262,
     "metadata": {},
     "output_type": "execute_result"
    }
   ],
   "source": [
    "# Standard Deviation of Avg Score grouped by Gender and Test Prep\n",
    "\n",
    "sdGenTestPrep=CleanSDF.groupby(['Gender','Test Prep'])['Avg Score'].std()\n",
    "sdGenTestPrep\n"
   ]
  },
  {
   "cell_type": "code",
   "execution_count": 263,
   "metadata": {},
   "outputs": [
    {
     "data": {
      "text/plain": [
       "Gender  Test Prep\n",
       "female  completed    279\n",
       "        none         494\n",
       "male    completed    250\n",
       "        none         443\n",
       "Name: Avg Score, dtype: int64"
      ]
     },
     "execution_count": 263,
     "metadata": {},
     "output_type": "execute_result"
    }
   ],
   "source": [
    "numGenTestPrep=CleanSDF.groupby(['Gender','Test Prep'])['Avg Score'].count()\n",
    "numGenTestPrep"
   ]
  },
  {
   "cell_type": "code",
   "execution_count": 264,
   "metadata": {},
   "outputs": [
    {
     "data": {
      "text/plain": [
       "City\n",
       "Albany    68.670243\n",
       "NYC       68.059667\n",
       "Name: Avg Score, dtype: float64"
      ]
     },
     "execution_count": 264,
     "metadata": {},
     "output_type": "execute_result"
    }
   ],
   "source": [
    "#mean Avg Score by City \n",
    "\n",
    "meanCityTestPrep=CleanSDF.groupby('City')['Avg Score'].mean()\n",
    "meanCityTestPrep\n",
    "#very little difference"
   ]
  },
  {
   "cell_type": "code",
   "execution_count": 265,
   "metadata": {},
   "outputs": [
    {
     "data": {
      "text/plain": [
       "City\n",
       "Albany    13.595869\n",
       "NYC       13.589817\n",
       "Name: Avg Score, dtype: float64"
      ]
     },
     "execution_count": 265,
     "metadata": {},
     "output_type": "execute_result"
    }
   ],
   "source": [
    "# Standard deviation of Avg Score by City \n",
    "\n",
    "sdCityTestPrep=CleanSDF.groupby('City')['Avg Score'].std()\n",
    "sdCityTestPrep\n",
    "#very little difference"
   ]
  },
  {
   "cell_type": "code",
   "execution_count": 266,
   "metadata": {},
   "outputs": [
    {
     "data": {
      "text/plain": [
       "Test Prep\n",
       "completed    72.934152\n",
       "none         65.611348\n",
       "Name: Avg Score, dtype: float64"
      ]
     },
     "execution_count": 266,
     "metadata": {},
     "output_type": "execute_result"
    }
   ],
   "source": [
    "# mean Average Scores by whether they took the test prep course or not\n",
    "\n",
    "meanTestPrep=CleanSDF.groupby('Test Prep')['Avg Score'].mean()\n",
    "meanTestPrep"
   ]
  },
  {
   "cell_type": "code",
   "execution_count": 267,
   "metadata": {},
   "outputs": [
    {
     "data": {
      "text/plain": [
       "Test Prep\n",
       "completed    529\n",
       "none         937\n",
       "Name: Avg Score, dtype: int64"
      ]
     },
     "execution_count": 267,
     "metadata": {},
     "output_type": "execute_result"
    }
   ],
   "source": [
    "numTestPrep=CleanSDF.groupby('Test Prep')['Avg Score'].count()\n",
    "numTestPrep"
   ]
  },
  {
   "cell_type": "code",
   "execution_count": 268,
   "metadata": {},
   "outputs": [
    {
     "data": {
      "text/plain": [
       "Test Prep\n",
       "completed    12.870781\n",
       "none         13.276056\n",
       "Name: Avg Score, dtype: float64"
      ]
     },
     "execution_count": 268,
     "metadata": {},
     "output_type": "execute_result"
    }
   ],
   "source": [
    "#Standard deviation of of Avg Score by Test Prep\n",
    "sdTestPrep=CleanSDF.groupby('Test Prep')['Avg Score'].std() #Standard Deviation\n",
    "sdSqTestPrep = sdTestPrep**2\n",
    "sdTestPrep"
   ]
  },
  {
   "cell_type": "markdown",
   "metadata": {},
   "source": [
    "## t test whether those who completed the test prep course had higher Avg Score than those who did not"
   ]
  },
  {
   "cell_type": "code",
   "execution_count": 269,
   "metadata": {},
   "outputs": [
    {
     "data": {
      "text/plain": [
       "10.254139706388923"
      ]
     },
     "execution_count": 269,
     "metadata": {},
     "output_type": "execute_result"
    }
   ],
   "source": [
    "# t-test on two independent groups: Whether the student completed the Test Prep Course or not.\n",
    "\n",
    "NTestPrep=CleanSDF.groupby('Test Prep')['Avg Score'].count()\n",
    "n1TestPrep=NTestPrep[0]+NTestPrep[1] # n1+n2\n",
    "n2TestPrep=(1/NTestPrep[0]+1/NTestPrep[1]) # (1/n1+1/n2)\n",
    "s1TestPrep=((NTestPrep[0]-1)*sdSqTestPrep[0]+(NTestPrep[1]-1)*sdSqTestPrep[1])/(n1TestPrep-2) #(n1-1)*sq(var1)+(n2-1)*sq(var2)/(n1+n2-2)\n",
    "s2TestPrep=np.sqrt(s1TestPrep*(n2TestPrep)) # denominator of t-test\n",
    "tTestPrep=(meanTestPrep[0]-meanTestPrep[1])/s2TestPrep # t-test statistic: difference of mean divided by denominator\n",
    "tTestPrep # Student t value"
   ]
  },
  {
   "cell_type": "code",
   "execution_count": 270,
   "metadata": {},
   "outputs": [
    {
     "data": {
      "text/plain": [
       "0.0"
      ]
     },
     "execution_count": 270,
     "metadata": {},
     "output_type": "execute_result"
    }
   ],
   "source": [
    "#one-tail t-test\n",
    "\n",
    "pTestPrep=1 - stats.t.cdf(tTestPrep,df=(n1TestPrep-2))\n",
    "pTestPrep"
   ]
  },
  {
   "cell_type": "markdown",
   "metadata": {},
   "source": [
    "## We can conclude that those who took the test prep course out performed those who did not with a 100% degree of confidence"
   ]
  },
  {
   "cell_type": "markdown",
   "metadata": {},
   "source": [
    "## test of t-Test with data from page 159 of Stats binder. This is a test of the above formula. I am inserting numbers from a given example for which I know the answer. Test works"
   ]
  },
  {
   "cell_type": "code",
   "execution_count": 271,
   "metadata": {},
   "outputs": [
    {
     "data": {
      "text/plain": [
       "-1.403213897997782"
      ]
     },
     "execution_count": 271,
     "metadata": {},
     "output_type": "execute_result"
    }
   ],
   "source": [
    "\n",
    "n1TestPrep=62+18 # n1+n2\n",
    "n2TestPrep=(1/18+1/62) # (1/n1+1/n2)\n",
    "s1TestPrep=((18-1)*1.742885**2+(62-1)*1.902293**2)/(62+18-2) #(n1-1)*sq(var1)+(n2-1)*sq(var2)/(n1+n2-2)\n",
    "s2TestPrep=np.sqrt(s1TestPrep*(n2TestPrep)) # denominator of t-test\n",
    "tTestPrep=(9.633333-10.3354)/s2TestPrep # t-test statistic: difference of mean divided by denominator\n",
    "tTestPrep # Student t value"
   ]
  },
  {
   "cell_type": "markdown",
   "metadata": {},
   "source": [
    "# Below is a cheat of sorts. It is lines of code I did today, Sunday, two days afer our presentation. It should not count towards our mark. I figured we sould have done it, but we ran out of time. I did it for my own benefit.\n",
    "\n",
    "# Ron"
   ]
  },
  {
   "cell_type": "code",
   "execution_count": 272,
   "metadata": {},
   "outputs": [],
   "source": [
    "# Creat column to identify the top 450 who qualify: they passed all tests they were not exempt from.\n",
    "CleanSDF['Qualifies']=0\n"
   ]
  },
  {
   "cell_type": "code",
   "execution_count": 273,
   "metadata": {},
   "outputs": [
    {
     "data": {
      "text/html": [
       "<div>\n",
       "<style scoped>\n",
       "    .dataframe tbody tr th:only-of-type {\n",
       "        vertical-align: middle;\n",
       "    }\n",
       "\n",
       "    .dataframe tbody tr th {\n",
       "        vertical-align: top;\n",
       "    }\n",
       "\n",
       "    .dataframe thead th {\n",
       "        text-align: right;\n",
       "    }\n",
       "</style>\n",
       "<table border=\"1\" class=\"dataframe\">\n",
       "  <thead>\n",
       "    <tr style=\"text-align: right;\">\n",
       "      <th></th>\n",
       "      <th>Student Code</th>\n",
       "      <th>Race/Ethnicity</th>\n",
       "      <th>Parent Ed</th>\n",
       "      <th>Lunch</th>\n",
       "      <th>Test Prep</th>\n",
       "      <th>Math Score</th>\n",
       "      <th>Reading Score</th>\n",
       "      <th>Writing Score</th>\n",
       "      <th>Math Test Exemption Date</th>\n",
       "      <th>City</th>\n",
       "      <th>Gender</th>\n",
       "      <th>Avg Score</th>\n",
       "      <th>Qualifies</th>\n",
       "    </tr>\n",
       "  </thead>\n",
       "  <tbody>\n",
       "    <tr>\n",
       "      <th>0</th>\n",
       "      <td>5946202</td>\n",
       "      <td>group B</td>\n",
       "      <td>Level 3</td>\n",
       "      <td>standard</td>\n",
       "      <td>none</td>\n",
       "      <td>72</td>\n",
       "      <td>72</td>\n",
       "      <td>74</td>\n",
       "      <td>NaN</td>\n",
       "      <td>NYC</td>\n",
       "      <td>female</td>\n",
       "      <td>72.666667</td>\n",
       "      <td>True</td>\n",
       "    </tr>\n",
       "    <tr>\n",
       "      <th>1</th>\n",
       "      <td>3613792</td>\n",
       "      <td>NaN</td>\n",
       "      <td>Level 2</td>\n",
       "      <td>standard</td>\n",
       "      <td>completed</td>\n",
       "      <td>69</td>\n",
       "      <td>90</td>\n",
       "      <td>88</td>\n",
       "      <td>NaN</td>\n",
       "      <td>NYC</td>\n",
       "      <td>female</td>\n",
       "      <td>82.333333</td>\n",
       "      <td>True</td>\n",
       "    </tr>\n",
       "    <tr>\n",
       "      <th>2</th>\n",
       "      <td>5104022</td>\n",
       "      <td>NaN</td>\n",
       "      <td>Level 3</td>\n",
       "      <td>standard</td>\n",
       "      <td>none</td>\n",
       "      <td>90</td>\n",
       "      <td>95</td>\n",
       "      <td>93</td>\n",
       "      <td>NaN</td>\n",
       "      <td>NYC</td>\n",
       "      <td>female</td>\n",
       "      <td>92.666667</td>\n",
       "      <td>True</td>\n",
       "    </tr>\n",
       "    <tr>\n",
       "      <th>3</th>\n",
       "      <td>3576511</td>\n",
       "      <td>NaN</td>\n",
       "      <td>Level 2</td>\n",
       "      <td>free/reduced</td>\n",
       "      <td>none</td>\n",
       "      <td>45</td>\n",
       "      <td>57</td>\n",
       "      <td>44</td>\n",
       "      <td>NaN</td>\n",
       "      <td>NYC</td>\n",
       "      <td>male</td>\n",
       "      <td>48.666667</td>\n",
       "      <td>False</td>\n",
       "    </tr>\n",
       "    <tr>\n",
       "      <th>4</th>\n",
       "      <td>1459951</td>\n",
       "      <td>group C</td>\n",
       "      <td>Level 2</td>\n",
       "      <td>standard</td>\n",
       "      <td>none</td>\n",
       "      <td>0</td>\n",
       "      <td>78</td>\n",
       "      <td>75</td>\n",
       "      <td>24th/Nov/2016</td>\n",
       "      <td>NYC</td>\n",
       "      <td>male</td>\n",
       "      <td>76.500000</td>\n",
       "      <td>True</td>\n",
       "    </tr>\n",
       "  </tbody>\n",
       "</table>\n",
       "</div>"
      ],
      "text/plain": [
       "  Student Code Race/Ethnicity Parent Ed         Lunch  Test Prep  Math Score  \\\n",
       "0      5946202        group B   Level 3      standard       none          72   \n",
       "1      3613792            NaN   Level 2      standard  completed          69   \n",
       "2      5104022            NaN   Level 3      standard       none          90   \n",
       "3      3576511            NaN   Level 2  free/reduced       none          45   \n",
       "4      1459951        group C   Level 2      standard       none           0   \n",
       "\n",
       "   Reading Score  Writing Score Math Test Exemption Date City  Gender  \\\n",
       "0             72             74                      NaN  NYC  female   \n",
       "1             90             88                      NaN  NYC  female   \n",
       "2             95             93                      NaN  NYC  female   \n",
       "3             57             44                      NaN  NYC    male   \n",
       "4             78             75            24th/Nov/2016  NYC    male   \n",
       "\n",
       "   Avg Score  Qualifies  \n",
       "0  72.666667       True  \n",
       "1  82.333333       True  \n",
       "2  92.666667       True  \n",
       "3  48.666667      False  \n",
       "4  76.500000       True  "
      ]
     },
     "execution_count": 273,
     "metadata": {},
     "output_type": "execute_result"
    }
   ],
   "source": [
    "#find those who passed all tests from which they were not exempt\n",
    "\n",
    "i=0\n",
    "for x in CleanSDF['Math Test Exemption Date']:  #checks to see if the there is a date os exemption\n",
    "    if pd.notnull(x) and CleanSDF.iloc[i,5]>=50 and CleanSDF.iloc[i,6]>=50 and CleanSDF.iloc[i,7]>=50:\n",
    "        CleanSDF.iloc[i,12]=True\n",
    "        i+=1\n",
    "    elif CleanSDF.iloc[i,6]>=50 and CleanSDF.iloc[i,7]>=50:\n",
    "        CleanSDF.iloc[i,12]=True\n",
    "        i+=1\n",
    "    else:\n",
    "        CleanSDF.iloc[i,12]=False\n",
    "        i+=1\n",
    "CleanSDF.head()"
   ]
  },
  {
   "cell_type": "code",
   "execution_count": 274,
   "metadata": {},
   "outputs": [
    {
     "data": {
      "text/html": [
       "<div>\n",
       "<style scoped>\n",
       "    .dataframe tbody tr th:only-of-type {\n",
       "        vertical-align: middle;\n",
       "    }\n",
       "\n",
       "    .dataframe tbody tr th {\n",
       "        vertical-align: top;\n",
       "    }\n",
       "\n",
       "    .dataframe thead th {\n",
       "        text-align: right;\n",
       "    }\n",
       "</style>\n",
       "<table border=\"1\" class=\"dataframe\">\n",
       "  <thead>\n",
       "    <tr style=\"text-align: right;\">\n",
       "      <th></th>\n",
       "      <th>Student Code</th>\n",
       "      <th>Race/Ethnicity</th>\n",
       "      <th>Parent Ed</th>\n",
       "      <th>Lunch</th>\n",
       "      <th>Test Prep</th>\n",
       "      <th>Math Score</th>\n",
       "      <th>Reading Score</th>\n",
       "      <th>Writing Score</th>\n",
       "      <th>Math Test Exemption Date</th>\n",
       "      <th>City</th>\n",
       "      <th>Gender</th>\n",
       "      <th>Avg Score</th>\n",
       "      <th>Qualifies</th>\n",
       "    </tr>\n",
       "  </thead>\n",
       "  <tbody>\n",
       "    <tr>\n",
       "      <th>916</th>\n",
       "      <td>3555781</td>\n",
       "      <td>NaN</td>\n",
       "      <td>Level 3</td>\n",
       "      <td>standard</td>\n",
       "      <td>completed</td>\n",
       "      <td>100</td>\n",
       "      <td>100</td>\n",
       "      <td>100</td>\n",
       "      <td>NaN</td>\n",
       "      <td>NYC</td>\n",
       "      <td>male</td>\n",
       "      <td>100.000000</td>\n",
       "      <td>True</td>\n",
       "    </tr>\n",
       "    <tr>\n",
       "      <th>458</th>\n",
       "      <td>4911622</td>\n",
       "      <td>NaN</td>\n",
       "      <td>Level 3</td>\n",
       "      <td>standard</td>\n",
       "      <td>none</td>\n",
       "      <td>100</td>\n",
       "      <td>100</td>\n",
       "      <td>100</td>\n",
       "      <td>NaN</td>\n",
       "      <td>NYC</td>\n",
       "      <td>female</td>\n",
       "      <td>100.000000</td>\n",
       "      <td>True</td>\n",
       "    </tr>\n",
       "    <tr>\n",
       "      <th>962</th>\n",
       "      <td>4968802</td>\n",
       "      <td>group E</td>\n",
       "      <td>Level 2</td>\n",
       "      <td>standard</td>\n",
       "      <td>none</td>\n",
       "      <td>100</td>\n",
       "      <td>100</td>\n",
       "      <td>100</td>\n",
       "      <td>NaN</td>\n",
       "      <td>NYC</td>\n",
       "      <td>female</td>\n",
       "      <td>100.000000</td>\n",
       "      <td>True</td>\n",
       "    </tr>\n",
       "    <tr>\n",
       "      <th>375</th>\n",
       "      <td>3555781</td>\n",
       "      <td>NaN</td>\n",
       "      <td>Level 3</td>\n",
       "      <td>standard</td>\n",
       "      <td>completed</td>\n",
       "      <td>100</td>\n",
       "      <td>100</td>\n",
       "      <td>100</td>\n",
       "      <td>NaN</td>\n",
       "      <td>Albany</td>\n",
       "      <td>male</td>\n",
       "      <td>100.000000</td>\n",
       "      <td>True</td>\n",
       "    </tr>\n",
       "    <tr>\n",
       "      <th>114</th>\n",
       "      <td>2633502</td>\n",
       "      <td>group E</td>\n",
       "      <td>Level 1</td>\n",
       "      <td>standard</td>\n",
       "      <td>completed</td>\n",
       "      <td>0</td>\n",
       "      <td>100</td>\n",
       "      <td>100</td>\n",
       "      <td>24th/Nov/2016</td>\n",
       "      <td>NYC</td>\n",
       "      <td>female</td>\n",
       "      <td>100.000000</td>\n",
       "      <td>True</td>\n",
       "    </tr>\n",
       "    <tr>\n",
       "      <th>421</th>\n",
       "      <td>4968802</td>\n",
       "      <td>group E</td>\n",
       "      <td>Level 2</td>\n",
       "      <td>standard</td>\n",
       "      <td>none</td>\n",
       "      <td>100</td>\n",
       "      <td>100</td>\n",
       "      <td>100</td>\n",
       "      <td>NaN</td>\n",
       "      <td>Albany</td>\n",
       "      <td>female</td>\n",
       "      <td>100.000000</td>\n",
       "      <td>True</td>\n",
       "    </tr>\n",
       "    <tr>\n",
       "      <th>171</th>\n",
       "      <td>4987932</td>\n",
       "      <td>group D</td>\n",
       "      <td>Level 2</td>\n",
       "      <td>standard</td>\n",
       "      <td>none</td>\n",
       "      <td>98</td>\n",
       "      <td>100</td>\n",
       "      <td>99</td>\n",
       "      <td>NaN</td>\n",
       "      <td>Albany</td>\n",
       "      <td>female</td>\n",
       "      <td>99.000000</td>\n",
       "      <td>True</td>\n",
       "    </tr>\n",
       "    <tr>\n",
       "      <th>712</th>\n",
       "      <td>4987932</td>\n",
       "      <td>group D</td>\n",
       "      <td>Level 2</td>\n",
       "      <td>standard</td>\n",
       "      <td>none</td>\n",
       "      <td>98</td>\n",
       "      <td>100</td>\n",
       "      <td>99</td>\n",
       "      <td>NaN</td>\n",
       "      <td>NYC</td>\n",
       "      <td>female</td>\n",
       "      <td>99.000000</td>\n",
       "      <td>True</td>\n",
       "    </tr>\n",
       "    <tr>\n",
       "      <th>179</th>\n",
       "      <td>6891382</td>\n",
       "      <td>group D</td>\n",
       "      <td>Level 1</td>\n",
       "      <td>standard</td>\n",
       "      <td>completed</td>\n",
       "      <td>97</td>\n",
       "      <td>100</td>\n",
       "      <td>100</td>\n",
       "      <td>NaN</td>\n",
       "      <td>NYC</td>\n",
       "      <td>female</td>\n",
       "      <td>99.000000</td>\n",
       "      <td>True</td>\n",
       "    </tr>\n",
       "    <tr>\n",
       "      <th>625</th>\n",
       "      <td>5531821</td>\n",
       "      <td>NaN</td>\n",
       "      <td>Level 2</td>\n",
       "      <td>standard</td>\n",
       "      <td>completed</td>\n",
       "      <td>100</td>\n",
       "      <td>97</td>\n",
       "      <td>99</td>\n",
       "      <td>NaN</td>\n",
       "      <td>NYC</td>\n",
       "      <td>male</td>\n",
       "      <td>98.666667</td>\n",
       "      <td>True</td>\n",
       "    </tr>\n",
       "    <tr>\n",
       "      <th>165</th>\n",
       "      <td>4875502</td>\n",
       "      <td>group C</td>\n",
       "      <td>Level 3</td>\n",
       "      <td>standard</td>\n",
       "      <td>completed</td>\n",
       "      <td>96</td>\n",
       "      <td>100</td>\n",
       "      <td>100</td>\n",
       "      <td>NaN</td>\n",
       "      <td>NYC</td>\n",
       "      <td>female</td>\n",
       "      <td>98.666667</td>\n",
       "      <td>True</td>\n",
       "    </tr>\n",
       "    <tr>\n",
       "      <th>84</th>\n",
       "      <td>5531821</td>\n",
       "      <td>NaN</td>\n",
       "      <td>Level 2</td>\n",
       "      <td>standard</td>\n",
       "      <td>completed</td>\n",
       "      <td>100</td>\n",
       "      <td>97</td>\n",
       "      <td>99</td>\n",
       "      <td>NaN</td>\n",
       "      <td>Albany</td>\n",
       "      <td>male</td>\n",
       "      <td>98.666667</td>\n",
       "      <td>True</td>\n",
       "    </tr>\n",
       "    <tr>\n",
       "      <th>903</th>\n",
       "      <td>4981732</td>\n",
       "      <td>NaN</td>\n",
       "      <td>Level 3</td>\n",
       "      <td>free/reduced</td>\n",
       "      <td>completed</td>\n",
       "      <td>93</td>\n",
       "      <td>100</td>\n",
       "      <td>100</td>\n",
       "      <td>NaN</td>\n",
       "      <td>NYC</td>\n",
       "      <td>female</td>\n",
       "      <td>97.666667</td>\n",
       "      <td>True</td>\n",
       "    </tr>\n",
       "    <tr>\n",
       "      <th>144</th>\n",
       "      <td>7552892</td>\n",
       "      <td>NaN</td>\n",
       "      <td>Level 3</td>\n",
       "      <td>standard</td>\n",
       "      <td>completed</td>\n",
       "      <td>94</td>\n",
       "      <td>99</td>\n",
       "      <td>100</td>\n",
       "      <td>NaN</td>\n",
       "      <td>Albany</td>\n",
       "      <td>female</td>\n",
       "      <td>97.666667</td>\n",
       "      <td>True</td>\n",
       "    </tr>\n",
       "    <tr>\n",
       "      <th>685</th>\n",
       "      <td>7552892</td>\n",
       "      <td>NaN</td>\n",
       "      <td>Level 3</td>\n",
       "      <td>standard</td>\n",
       "      <td>completed</td>\n",
       "      <td>94</td>\n",
       "      <td>99</td>\n",
       "      <td>100</td>\n",
       "      <td>NaN</td>\n",
       "      <td>NYC</td>\n",
       "      <td>female</td>\n",
       "      <td>97.666667</td>\n",
       "      <td>True</td>\n",
       "    </tr>\n",
       "    <tr>\n",
       "      <th>362</th>\n",
       "      <td>4981732</td>\n",
       "      <td>NaN</td>\n",
       "      <td>Level 3</td>\n",
       "      <td>free/reduced</td>\n",
       "      <td>completed</td>\n",
       "      <td>93</td>\n",
       "      <td>100</td>\n",
       "      <td>100</td>\n",
       "      <td>NaN</td>\n",
       "      <td>Albany</td>\n",
       "      <td>female</td>\n",
       "      <td>97.666667</td>\n",
       "      <td>True</td>\n",
       "    </tr>\n",
       "    <tr>\n",
       "      <th>149</th>\n",
       "      <td>6768571</td>\n",
       "      <td>group E</td>\n",
       "      <td>Level 2</td>\n",
       "      <td>free/reduced</td>\n",
       "      <td>completed</td>\n",
       "      <td>100</td>\n",
       "      <td>100</td>\n",
       "      <td>93</td>\n",
       "      <td>NaN</td>\n",
       "      <td>NYC</td>\n",
       "      <td>male</td>\n",
       "      <td>97.666667</td>\n",
       "      <td>True</td>\n",
       "    </tr>\n",
       "    <tr>\n",
       "      <th>416</th>\n",
       "      <td>6643902</td>\n",
       "      <td>NaN</td>\n",
       "      <td>Level 3</td>\n",
       "      <td>standard</td>\n",
       "      <td>none</td>\n",
       "      <td>92</td>\n",
       "      <td>100</td>\n",
       "      <td>100</td>\n",
       "      <td>NaN</td>\n",
       "      <td>Albany</td>\n",
       "      <td>female</td>\n",
       "      <td>97.333333</td>\n",
       "      <td>True</td>\n",
       "    </tr>\n",
       "    <tr>\n",
       "      <th>957</th>\n",
       "      <td>6643902</td>\n",
       "      <td>NaN</td>\n",
       "      <td>Level 3</td>\n",
       "      <td>standard</td>\n",
       "      <td>none</td>\n",
       "      <td>92</td>\n",
       "      <td>100</td>\n",
       "      <td>100</td>\n",
       "      <td>NaN</td>\n",
       "      <td>NYC</td>\n",
       "      <td>female</td>\n",
       "      <td>97.333333</td>\n",
       "      <td>True</td>\n",
       "    </tr>\n",
       "    <tr>\n",
       "      <th>566</th>\n",
       "      <td>1569332</td>\n",
       "      <td>NaN</td>\n",
       "      <td>Level 3</td>\n",
       "      <td>free/reduced</td>\n",
       "      <td>completed</td>\n",
       "      <td>92</td>\n",
       "      <td>100</td>\n",
       "      <td>100</td>\n",
       "      <td>NaN</td>\n",
       "      <td>NYC</td>\n",
       "      <td>female</td>\n",
       "      <td>97.333333</td>\n",
       "      <td>True</td>\n",
       "    </tr>\n",
       "    <tr>\n",
       "      <th>25</th>\n",
       "      <td>1569332</td>\n",
       "      <td>NaN</td>\n",
       "      <td>Level 3</td>\n",
       "      <td>free/reduced</td>\n",
       "      <td>completed</td>\n",
       "      <td>92</td>\n",
       "      <td>100</td>\n",
       "      <td>100</td>\n",
       "      <td>NaN</td>\n",
       "      <td>Albany</td>\n",
       "      <td>female</td>\n",
       "      <td>97.333333</td>\n",
       "      <td>True</td>\n",
       "    </tr>\n",
       "    <tr>\n",
       "      <th>594</th>\n",
       "      <td>5189562</td>\n",
       "      <td>NaN</td>\n",
       "      <td>Level 3</td>\n",
       "      <td>standard</td>\n",
       "      <td>completed</td>\n",
       "      <td>92</td>\n",
       "      <td>100</td>\n",
       "      <td>99</td>\n",
       "      <td>NaN</td>\n",
       "      <td>NYC</td>\n",
       "      <td>female</td>\n",
       "      <td>97.000000</td>\n",
       "      <td>True</td>\n",
       "    </tr>\n",
       "    <tr>\n",
       "      <th>717</th>\n",
       "      <td>2972142</td>\n",
       "      <td>NaN</td>\n",
       "      <td>Level 2</td>\n",
       "      <td>standard</td>\n",
       "      <td>completed</td>\n",
       "      <td>96</td>\n",
       "      <td>96</td>\n",
       "      <td>99</td>\n",
       "      <td>NaN</td>\n",
       "      <td>NYC</td>\n",
       "      <td>female</td>\n",
       "      <td>97.000000</td>\n",
       "      <td>True</td>\n",
       "    </tr>\n",
       "    <tr>\n",
       "      <th>176</th>\n",
       "      <td>2972142</td>\n",
       "      <td>NaN</td>\n",
       "      <td>Level 2</td>\n",
       "      <td>standard</td>\n",
       "      <td>completed</td>\n",
       "      <td>96</td>\n",
       "      <td>96</td>\n",
       "      <td>99</td>\n",
       "      <td>NaN</td>\n",
       "      <td>Albany</td>\n",
       "      <td>female</td>\n",
       "      <td>97.000000</td>\n",
       "      <td>True</td>\n",
       "    </tr>\n",
       "    <tr>\n",
       "      <th>53</th>\n",
       "      <td>5189562</td>\n",
       "      <td>group C</td>\n",
       "      <td>Level 3</td>\n",
       "      <td>standard</td>\n",
       "      <td>completed</td>\n",
       "      <td>92</td>\n",
       "      <td>100</td>\n",
       "      <td>99</td>\n",
       "      <td>NaN</td>\n",
       "      <td>Albany</td>\n",
       "      <td>female</td>\n",
       "      <td>97.000000</td>\n",
       "      <td>True</td>\n",
       "    </tr>\n",
       "    <tr>\n",
       "      <th>314</th>\n",
       "      <td>6905312</td>\n",
       "      <td>NaN</td>\n",
       "      <td>Level 3</td>\n",
       "      <td>standard</td>\n",
       "      <td>none</td>\n",
       "      <td>97</td>\n",
       "      <td>97</td>\n",
       "      <td>96</td>\n",
       "      <td>NaN</td>\n",
       "      <td>Albany</td>\n",
       "      <td>female</td>\n",
       "      <td>96.666667</td>\n",
       "      <td>True</td>\n",
       "    </tr>\n",
       "    <tr>\n",
       "      <th>855</th>\n",
       "      <td>6905312</td>\n",
       "      <td>NaN</td>\n",
       "      <td>Level 3</td>\n",
       "      <td>standard</td>\n",
       "      <td>none</td>\n",
       "      <td>97</td>\n",
       "      <td>97</td>\n",
       "      <td>96</td>\n",
       "      <td>NaN</td>\n",
       "      <td>NYC</td>\n",
       "      <td>female</td>\n",
       "      <td>96.666667</td>\n",
       "      <td>True</td>\n",
       "    </tr>\n",
       "    <tr>\n",
       "      <th>970</th>\n",
       "      <td>2934442</td>\n",
       "      <td>NaN</td>\n",
       "      <td>Level 3</td>\n",
       "      <td>standard</td>\n",
       "      <td>none</td>\n",
       "      <td>89</td>\n",
       "      <td>100</td>\n",
       "      <td>100</td>\n",
       "      <td>NaN</td>\n",
       "      <td>NYC</td>\n",
       "      <td>female</td>\n",
       "      <td>96.333333</td>\n",
       "      <td>True</td>\n",
       "    </tr>\n",
       "    <tr>\n",
       "      <th>5</th>\n",
       "      <td>6222512</td>\n",
       "      <td>NaN</td>\n",
       "      <td>Level 1</td>\n",
       "      <td>standard</td>\n",
       "      <td>completed</td>\n",
       "      <td>92</td>\n",
       "      <td>100</td>\n",
       "      <td>97</td>\n",
       "      <td>NaN</td>\n",
       "      <td>Albany</td>\n",
       "      <td>female</td>\n",
       "      <td>96.333333</td>\n",
       "      <td>True</td>\n",
       "    </tr>\n",
       "    <tr>\n",
       "      <th>429</th>\n",
       "      <td>2934442</td>\n",
       "      <td>NaN</td>\n",
       "      <td>Level 3</td>\n",
       "      <td>standard</td>\n",
       "      <td>none</td>\n",
       "      <td>89</td>\n",
       "      <td>100</td>\n",
       "      <td>100</td>\n",
       "      <td>NaN</td>\n",
       "      <td>Albany</td>\n",
       "      <td>female</td>\n",
       "      <td>96.333333</td>\n",
       "      <td>True</td>\n",
       "    </tr>\n",
       "    <tr>\n",
       "      <th>...</th>\n",
       "      <td>...</td>\n",
       "      <td>...</td>\n",
       "      <td>...</td>\n",
       "      <td>...</td>\n",
       "      <td>...</td>\n",
       "      <td>...</td>\n",
       "      <td>...</td>\n",
       "      <td>...</td>\n",
       "      <td>...</td>\n",
       "      <td>...</td>\n",
       "      <td>...</td>\n",
       "      <td>...</td>\n",
       "      <td>...</td>\n",
       "    </tr>\n",
       "    <tr>\n",
       "      <th>245</th>\n",
       "      <td>2305462</td>\n",
       "      <td>NaN</td>\n",
       "      <td>Level 1</td>\n",
       "      <td>free/reduced</td>\n",
       "      <td>none</td>\n",
       "      <td>72</td>\n",
       "      <td>79</td>\n",
       "      <td>77</td>\n",
       "      <td>NaN</td>\n",
       "      <td>Albany</td>\n",
       "      <td>female</td>\n",
       "      <td>76.000000</td>\n",
       "      <td>True</td>\n",
       "    </tr>\n",
       "    <tr>\n",
       "      <th>686</th>\n",
       "      <td>6521801</td>\n",
       "      <td>NaN</td>\n",
       "      <td>Level 2</td>\n",
       "      <td>standard</td>\n",
       "      <td>completed</td>\n",
       "      <td>85</td>\n",
       "      <td>75</td>\n",
       "      <td>68</td>\n",
       "      <td>NaN</td>\n",
       "      <td>NYC</td>\n",
       "      <td>male</td>\n",
       "      <td>76.000000</td>\n",
       "      <td>True</td>\n",
       "    </tr>\n",
       "    <tr>\n",
       "      <th>95</th>\n",
       "      <td>5482102</td>\n",
       "      <td>NaN</td>\n",
       "      <td>Level 1</td>\n",
       "      <td>free/reduced</td>\n",
       "      <td>completed</td>\n",
       "      <td>67</td>\n",
       "      <td>80</td>\n",
       "      <td>81</td>\n",
       "      <td>NaN</td>\n",
       "      <td>Albany</td>\n",
       "      <td>female</td>\n",
       "      <td>76.000000</td>\n",
       "      <td>True</td>\n",
       "    </tr>\n",
       "    <tr>\n",
       "      <th>677</th>\n",
       "      <td>3387062</td>\n",
       "      <td>group C</td>\n",
       "      <td>Level 1</td>\n",
       "      <td>standard</td>\n",
       "      <td>completed</td>\n",
       "      <td>70</td>\n",
       "      <td>82</td>\n",
       "      <td>76</td>\n",
       "      <td>NaN</td>\n",
       "      <td>NYC</td>\n",
       "      <td>female</td>\n",
       "      <td>76.000000</td>\n",
       "      <td>True</td>\n",
       "    </tr>\n",
       "    <tr>\n",
       "      <th>687</th>\n",
       "      <td>6144021</td>\n",
       "      <td>NaN</td>\n",
       "      <td>Level 2</td>\n",
       "      <td>free/reduced</td>\n",
       "      <td>none</td>\n",
       "      <td>77</td>\n",
       "      <td>78</td>\n",
       "      <td>73</td>\n",
       "      <td>NaN</td>\n",
       "      <td>NYC</td>\n",
       "      <td>male</td>\n",
       "      <td>76.000000</td>\n",
       "      <td>True</td>\n",
       "    </tr>\n",
       "    <tr>\n",
       "      <th>560</th>\n",
       "      <td>1810092</td>\n",
       "      <td>NaN</td>\n",
       "      <td>Level 2</td>\n",
       "      <td>standard</td>\n",
       "      <td>completed</td>\n",
       "      <td>74</td>\n",
       "      <td>75</td>\n",
       "      <td>79</td>\n",
       "      <td>NaN</td>\n",
       "      <td>NYC</td>\n",
       "      <td>female</td>\n",
       "      <td>76.000000</td>\n",
       "      <td>True</td>\n",
       "    </tr>\n",
       "    <tr>\n",
       "      <th>19</th>\n",
       "      <td>1810092</td>\n",
       "      <td>NaN</td>\n",
       "      <td>Level 2</td>\n",
       "      <td>standard</td>\n",
       "      <td>completed</td>\n",
       "      <td>74</td>\n",
       "      <td>75</td>\n",
       "      <td>79</td>\n",
       "      <td>NaN</td>\n",
       "      <td>Albany</td>\n",
       "      <td>female</td>\n",
       "      <td>76.000000</td>\n",
       "      <td>True</td>\n",
       "    </tr>\n",
       "    <tr>\n",
       "      <th>146</th>\n",
       "      <td>6144021</td>\n",
       "      <td>NaN</td>\n",
       "      <td>Level 2</td>\n",
       "      <td>free/reduced</td>\n",
       "      <td>none</td>\n",
       "      <td>77</td>\n",
       "      <td>78</td>\n",
       "      <td>73</td>\n",
       "      <td>NaN</td>\n",
       "      <td>Albany</td>\n",
       "      <td>male</td>\n",
       "      <td>76.000000</td>\n",
       "      <td>True</td>\n",
       "    </tr>\n",
       "    <tr>\n",
       "      <th>145</th>\n",
       "      <td>6521801</td>\n",
       "      <td>NaN</td>\n",
       "      <td>Level 2</td>\n",
       "      <td>standard</td>\n",
       "      <td>completed</td>\n",
       "      <td>85</td>\n",
       "      <td>75</td>\n",
       "      <td>68</td>\n",
       "      <td>NaN</td>\n",
       "      <td>Albany</td>\n",
       "      <td>male</td>\n",
       "      <td>76.000000</td>\n",
       "      <td>True</td>\n",
       "    </tr>\n",
       "    <tr>\n",
       "      <th>134</th>\n",
       "      <td>7402001</td>\n",
       "      <td>group D</td>\n",
       "      <td>Level 3</td>\n",
       "      <td>free/reduced</td>\n",
       "      <td>completed</td>\n",
       "      <td>74</td>\n",
       "      <td>79</td>\n",
       "      <td>75</td>\n",
       "      <td>NaN</td>\n",
       "      <td>NYC</td>\n",
       "      <td>male</td>\n",
       "      <td>76.000000</td>\n",
       "      <td>True</td>\n",
       "    </tr>\n",
       "    <tr>\n",
       "      <th>583</th>\n",
       "      <td>3700142</td>\n",
       "      <td>group D</td>\n",
       "      <td>Level 2</td>\n",
       "      <td>standard</td>\n",
       "      <td>completed</td>\n",
       "      <td>73</td>\n",
       "      <td>75</td>\n",
       "      <td>80</td>\n",
       "      <td>NaN</td>\n",
       "      <td>NYC</td>\n",
       "      <td>female</td>\n",
       "      <td>76.000000</td>\n",
       "      <td>True</td>\n",
       "    </tr>\n",
       "    <tr>\n",
       "      <th>136</th>\n",
       "      <td>3387062</td>\n",
       "      <td>group C</td>\n",
       "      <td>Level 1</td>\n",
       "      <td>standard</td>\n",
       "      <td>completed</td>\n",
       "      <td>70</td>\n",
       "      <td>82</td>\n",
       "      <td>76</td>\n",
       "      <td>NaN</td>\n",
       "      <td>Albany</td>\n",
       "      <td>female</td>\n",
       "      <td>76.000000</td>\n",
       "      <td>True</td>\n",
       "    </tr>\n",
       "    <tr>\n",
       "      <th>58</th>\n",
       "      <td>6062742</td>\n",
       "      <td>NaN</td>\n",
       "      <td>Level 1</td>\n",
       "      <td>standard</td>\n",
       "      <td>none</td>\n",
       "      <td>65</td>\n",
       "      <td>82</td>\n",
       "      <td>81</td>\n",
       "      <td>NaN</td>\n",
       "      <td>Albany</td>\n",
       "      <td>female</td>\n",
       "      <td>76.000000</td>\n",
       "      <td>True</td>\n",
       "    </tr>\n",
       "    <tr>\n",
       "      <th>786</th>\n",
       "      <td>2305462</td>\n",
       "      <td>NaN</td>\n",
       "      <td>Level 1</td>\n",
       "      <td>free/reduced</td>\n",
       "      <td>none</td>\n",
       "      <td>72</td>\n",
       "      <td>79</td>\n",
       "      <td>77</td>\n",
       "      <td>NaN</td>\n",
       "      <td>NYC</td>\n",
       "      <td>female</td>\n",
       "      <td>76.000000</td>\n",
       "      <td>True</td>\n",
       "    </tr>\n",
       "    <tr>\n",
       "      <th>599</th>\n",
       "      <td>6062742</td>\n",
       "      <td>NaN</td>\n",
       "      <td>Level 1</td>\n",
       "      <td>standard</td>\n",
       "      <td>none</td>\n",
       "      <td>65</td>\n",
       "      <td>82</td>\n",
       "      <td>81</td>\n",
       "      <td>NaN</td>\n",
       "      <td>NYC</td>\n",
       "      <td>female</td>\n",
       "      <td>76.000000</td>\n",
       "      <td>True</td>\n",
       "    </tr>\n",
       "    <tr>\n",
       "      <th>691</th>\n",
       "      <td>6172272</td>\n",
       "      <td>NaN</td>\n",
       "      <td>Level 2</td>\n",
       "      <td>free/reduced</td>\n",
       "      <td>none</td>\n",
       "      <td>73</td>\n",
       "      <td>76</td>\n",
       "      <td>78</td>\n",
       "      <td>NaN</td>\n",
       "      <td>NYC</td>\n",
       "      <td>female</td>\n",
       "      <td>75.666667</td>\n",
       "      <td>True</td>\n",
       "    </tr>\n",
       "    <tr>\n",
       "      <th>693</th>\n",
       "      <td>2822092</td>\n",
       "      <td>NaN</td>\n",
       "      <td>Level 2</td>\n",
       "      <td>standard</td>\n",
       "      <td>none</td>\n",
       "      <td>77</td>\n",
       "      <td>77</td>\n",
       "      <td>73</td>\n",
       "      <td>NaN</td>\n",
       "      <td>NYC</td>\n",
       "      <td>female</td>\n",
       "      <td>75.666667</td>\n",
       "      <td>True</td>\n",
       "    </tr>\n",
       "    <tr>\n",
       "      <th>418</th>\n",
       "      <td>6065751</td>\n",
       "      <td>NaN</td>\n",
       "      <td>Level 1</td>\n",
       "      <td>standard</td>\n",
       "      <td>none</td>\n",
       "      <td>75</td>\n",
       "      <td>81</td>\n",
       "      <td>71</td>\n",
       "      <td>NaN</td>\n",
       "      <td>Albany</td>\n",
       "      <td>male</td>\n",
       "      <td>75.666667</td>\n",
       "      <td>True</td>\n",
       "    </tr>\n",
       "    <tr>\n",
       "      <th>676</th>\n",
       "      <td>5618682</td>\n",
       "      <td>group E</td>\n",
       "      <td>Level 2</td>\n",
       "      <td>standard</td>\n",
       "      <td>completed</td>\n",
       "      <td>73</td>\n",
       "      <td>78</td>\n",
       "      <td>76</td>\n",
       "      <td>NaN</td>\n",
       "      <td>NYC</td>\n",
       "      <td>female</td>\n",
       "      <td>75.666667</td>\n",
       "      <td>True</td>\n",
       "    </tr>\n",
       "    <tr>\n",
       "      <th>645</th>\n",
       "      <td>3212462</td>\n",
       "      <td>NaN</td>\n",
       "      <td>Level 3</td>\n",
       "      <td>standard</td>\n",
       "      <td>completed</td>\n",
       "      <td>65</td>\n",
       "      <td>81</td>\n",
       "      <td>81</td>\n",
       "      <td>NaN</td>\n",
       "      <td>NYC</td>\n",
       "      <td>female</td>\n",
       "      <td>75.666667</td>\n",
       "      <td>True</td>\n",
       "    </tr>\n",
       "    <tr>\n",
       "      <th>104</th>\n",
       "      <td>3212462</td>\n",
       "      <td>NaN</td>\n",
       "      <td>Level 3</td>\n",
       "      <td>standard</td>\n",
       "      <td>completed</td>\n",
       "      <td>65</td>\n",
       "      <td>81</td>\n",
       "      <td>81</td>\n",
       "      <td>NaN</td>\n",
       "      <td>Albany</td>\n",
       "      <td>female</td>\n",
       "      <td>75.666667</td>\n",
       "      <td>True</td>\n",
       "    </tr>\n",
       "    <tr>\n",
       "      <th>440</th>\n",
       "      <td>4878942</td>\n",
       "      <td>NaN</td>\n",
       "      <td>Level 2</td>\n",
       "      <td>standard</td>\n",
       "      <td>completed</td>\n",
       "      <td>67</td>\n",
       "      <td>81</td>\n",
       "      <td>79</td>\n",
       "      <td>NaN</td>\n",
       "      <td>NYC</td>\n",
       "      <td>female</td>\n",
       "      <td>75.666667</td>\n",
       "      <td>True</td>\n",
       "    </tr>\n",
       "    <tr>\n",
       "      <th>150</th>\n",
       "      <td>6172272</td>\n",
       "      <td>NaN</td>\n",
       "      <td>Level 2</td>\n",
       "      <td>free/reduced</td>\n",
       "      <td>none</td>\n",
       "      <td>73</td>\n",
       "      <td>76</td>\n",
       "      <td>78</td>\n",
       "      <td>NaN</td>\n",
       "      <td>Albany</td>\n",
       "      <td>female</td>\n",
       "      <td>75.666667</td>\n",
       "      <td>True</td>\n",
       "    </tr>\n",
       "    <tr>\n",
       "      <th>263</th>\n",
       "      <td>1538702</td>\n",
       "      <td>NaN</td>\n",
       "      <td>Level 2</td>\n",
       "      <td>standard</td>\n",
       "      <td>none</td>\n",
       "      <td>73</td>\n",
       "      <td>76</td>\n",
       "      <td>78</td>\n",
       "      <td>NaN</td>\n",
       "      <td>Albany</td>\n",
       "      <td>female</td>\n",
       "      <td>75.666667</td>\n",
       "      <td>True</td>\n",
       "    </tr>\n",
       "    <tr>\n",
       "      <th>843</th>\n",
       "      <td>7483111</td>\n",
       "      <td>group B</td>\n",
       "      <td>Level 2</td>\n",
       "      <td>free/reduced</td>\n",
       "      <td>completed</td>\n",
       "      <td>74</td>\n",
       "      <td>77</td>\n",
       "      <td>76</td>\n",
       "      <td>NaN</td>\n",
       "      <td>NYC</td>\n",
       "      <td>male</td>\n",
       "      <td>75.666667</td>\n",
       "      <td>True</td>\n",
       "    </tr>\n",
       "    <tr>\n",
       "      <th>345</th>\n",
       "      <td>7583252</td>\n",
       "      <td>NaN</td>\n",
       "      <td>Level 1</td>\n",
       "      <td>standard</td>\n",
       "      <td>none</td>\n",
       "      <td>72</td>\n",
       "      <td>80</td>\n",
       "      <td>75</td>\n",
       "      <td>NaN</td>\n",
       "      <td>NYC</td>\n",
       "      <td>female</td>\n",
       "      <td>75.666667</td>\n",
       "      <td>True</td>\n",
       "    </tr>\n",
       "    <tr>\n",
       "      <th>152</th>\n",
       "      <td>2822092</td>\n",
       "      <td>NaN</td>\n",
       "      <td>Level 2</td>\n",
       "      <td>standard</td>\n",
       "      <td>none</td>\n",
       "      <td>77</td>\n",
       "      <td>77</td>\n",
       "      <td>73</td>\n",
       "      <td>NaN</td>\n",
       "      <td>Albany</td>\n",
       "      <td>female</td>\n",
       "      <td>75.666667</td>\n",
       "      <td>True</td>\n",
       "    </tr>\n",
       "    <tr>\n",
       "      <th>959</th>\n",
       "      <td>6065751</td>\n",
       "      <td>NaN</td>\n",
       "      <td>Level 1</td>\n",
       "      <td>standard</td>\n",
       "      <td>none</td>\n",
       "      <td>75</td>\n",
       "      <td>81</td>\n",
       "      <td>71</td>\n",
       "      <td>NaN</td>\n",
       "      <td>NYC</td>\n",
       "      <td>male</td>\n",
       "      <td>75.666667</td>\n",
       "      <td>True</td>\n",
       "    </tr>\n",
       "    <tr>\n",
       "      <th>135</th>\n",
       "      <td>5618682</td>\n",
       "      <td>group E</td>\n",
       "      <td>Level 2</td>\n",
       "      <td>standard</td>\n",
       "      <td>completed</td>\n",
       "      <td>73</td>\n",
       "      <td>78</td>\n",
       "      <td>76</td>\n",
       "      <td>NaN</td>\n",
       "      <td>Albany</td>\n",
       "      <td>female</td>\n",
       "      <td>75.666667</td>\n",
       "      <td>True</td>\n",
       "    </tr>\n",
       "    <tr>\n",
       "      <th>302</th>\n",
       "      <td>7483111</td>\n",
       "      <td>group B</td>\n",
       "      <td>Level 2</td>\n",
       "      <td>free/reduced</td>\n",
       "      <td>completed</td>\n",
       "      <td>74</td>\n",
       "      <td>77</td>\n",
       "      <td>76</td>\n",
       "      <td>NaN</td>\n",
       "      <td>Albany</td>\n",
       "      <td>male</td>\n",
       "      <td>75.666667</td>\n",
       "      <td>True</td>\n",
       "    </tr>\n",
       "  </tbody>\n",
       "</table>\n",
       "<p>450 rows × 13 columns</p>\n",
       "</div>"
      ],
      "text/plain": [
       "    Student Code Race/Ethnicity Parent Ed         Lunch  Test Prep  \\\n",
       "916      3555781            NaN   Level 3      standard  completed   \n",
       "458      4911622            NaN   Level 3      standard       none   \n",
       "962      4968802        group E   Level 2      standard       none   \n",
       "375      3555781            NaN   Level 3      standard  completed   \n",
       "114      2633502        group E   Level 1      standard  completed   \n",
       "421      4968802        group E   Level 2      standard       none   \n",
       "171      4987932        group D   Level 2      standard       none   \n",
       "712      4987932        group D   Level 2      standard       none   \n",
       "179      6891382        group D   Level 1      standard  completed   \n",
       "625      5531821            NaN   Level 2      standard  completed   \n",
       "165      4875502        group C   Level 3      standard  completed   \n",
       "84       5531821            NaN   Level 2      standard  completed   \n",
       "903      4981732            NaN   Level 3  free/reduced  completed   \n",
       "144      7552892            NaN   Level 3      standard  completed   \n",
       "685      7552892            NaN   Level 3      standard  completed   \n",
       "362      4981732            NaN   Level 3  free/reduced  completed   \n",
       "149      6768571        group E   Level 2  free/reduced  completed   \n",
       "416      6643902            NaN   Level 3      standard       none   \n",
       "957      6643902            NaN   Level 3      standard       none   \n",
       "566      1569332            NaN   Level 3  free/reduced  completed   \n",
       "25       1569332            NaN   Level 3  free/reduced  completed   \n",
       "594      5189562            NaN   Level 3      standard  completed   \n",
       "717      2972142            NaN   Level 2      standard  completed   \n",
       "176      2972142            NaN   Level 2      standard  completed   \n",
       "53       5189562        group C   Level 3      standard  completed   \n",
       "314      6905312            NaN   Level 3      standard       none   \n",
       "855      6905312            NaN   Level 3      standard       none   \n",
       "970      2934442            NaN   Level 3      standard       none   \n",
       "5        6222512            NaN   Level 1      standard  completed   \n",
       "429      2934442            NaN   Level 3      standard       none   \n",
       "..           ...            ...       ...           ...        ...   \n",
       "245      2305462            NaN   Level 1  free/reduced       none   \n",
       "686      6521801            NaN   Level 2      standard  completed   \n",
       "95       5482102            NaN   Level 1  free/reduced  completed   \n",
       "677      3387062        group C   Level 1      standard  completed   \n",
       "687      6144021            NaN   Level 2  free/reduced       none   \n",
       "560      1810092            NaN   Level 2      standard  completed   \n",
       "19       1810092            NaN   Level 2      standard  completed   \n",
       "146      6144021            NaN   Level 2  free/reduced       none   \n",
       "145      6521801            NaN   Level 2      standard  completed   \n",
       "134      7402001        group D   Level 3  free/reduced  completed   \n",
       "583      3700142        group D   Level 2      standard  completed   \n",
       "136      3387062        group C   Level 1      standard  completed   \n",
       "58       6062742            NaN   Level 1      standard       none   \n",
       "786      2305462            NaN   Level 1  free/reduced       none   \n",
       "599      6062742            NaN   Level 1      standard       none   \n",
       "691      6172272            NaN   Level 2  free/reduced       none   \n",
       "693      2822092            NaN   Level 2      standard       none   \n",
       "418      6065751            NaN   Level 1      standard       none   \n",
       "676      5618682        group E   Level 2      standard  completed   \n",
       "645      3212462            NaN   Level 3      standard  completed   \n",
       "104      3212462            NaN   Level 3      standard  completed   \n",
       "440      4878942            NaN   Level 2      standard  completed   \n",
       "150      6172272            NaN   Level 2  free/reduced       none   \n",
       "263      1538702            NaN   Level 2      standard       none   \n",
       "843      7483111        group B   Level 2  free/reduced  completed   \n",
       "345      7583252            NaN   Level 1      standard       none   \n",
       "152      2822092            NaN   Level 2      standard       none   \n",
       "959      6065751            NaN   Level 1      standard       none   \n",
       "135      5618682        group E   Level 2      standard  completed   \n",
       "302      7483111        group B   Level 2  free/reduced  completed   \n",
       "\n",
       "     Math Score  Reading Score  Writing Score Math Test Exemption Date  \\\n",
       "916         100            100            100                      NaN   \n",
       "458         100            100            100                      NaN   \n",
       "962         100            100            100                      NaN   \n",
       "375         100            100            100                      NaN   \n",
       "114           0            100            100            24th/Nov/2016   \n",
       "421         100            100            100                      NaN   \n",
       "171          98            100             99                      NaN   \n",
       "712          98            100             99                      NaN   \n",
       "179          97            100            100                      NaN   \n",
       "625         100             97             99                      NaN   \n",
       "165          96            100            100                      NaN   \n",
       "84          100             97             99                      NaN   \n",
       "903          93            100            100                      NaN   \n",
       "144          94             99            100                      NaN   \n",
       "685          94             99            100                      NaN   \n",
       "362          93            100            100                      NaN   \n",
       "149         100            100             93                      NaN   \n",
       "416          92            100            100                      NaN   \n",
       "957          92            100            100                      NaN   \n",
       "566          92            100            100                      NaN   \n",
       "25           92            100            100                      NaN   \n",
       "594          92            100             99                      NaN   \n",
       "717          96             96             99                      NaN   \n",
       "176          96             96             99                      NaN   \n",
       "53           92            100             99                      NaN   \n",
       "314          97             97             96                      NaN   \n",
       "855          97             97             96                      NaN   \n",
       "970          89            100            100                      NaN   \n",
       "5            92            100             97                      NaN   \n",
       "429          89            100            100                      NaN   \n",
       "..          ...            ...            ...                      ...   \n",
       "245          72             79             77                      NaN   \n",
       "686          85             75             68                      NaN   \n",
       "95           67             80             81                      NaN   \n",
       "677          70             82             76                      NaN   \n",
       "687          77             78             73                      NaN   \n",
       "560          74             75             79                      NaN   \n",
       "19           74             75             79                      NaN   \n",
       "146          77             78             73                      NaN   \n",
       "145          85             75             68                      NaN   \n",
       "134          74             79             75                      NaN   \n",
       "583          73             75             80                      NaN   \n",
       "136          70             82             76                      NaN   \n",
       "58           65             82             81                      NaN   \n",
       "786          72             79             77                      NaN   \n",
       "599          65             82             81                      NaN   \n",
       "691          73             76             78                      NaN   \n",
       "693          77             77             73                      NaN   \n",
       "418          75             81             71                      NaN   \n",
       "676          73             78             76                      NaN   \n",
       "645          65             81             81                      NaN   \n",
       "104          65             81             81                      NaN   \n",
       "440          67             81             79                      NaN   \n",
       "150          73             76             78                      NaN   \n",
       "263          73             76             78                      NaN   \n",
       "843          74             77             76                      NaN   \n",
       "345          72             80             75                      NaN   \n",
       "152          77             77             73                      NaN   \n",
       "959          75             81             71                      NaN   \n",
       "135          73             78             76                      NaN   \n",
       "302          74             77             76                      NaN   \n",
       "\n",
       "       City  Gender   Avg Score  Qualifies  \n",
       "916     NYC    male  100.000000       True  \n",
       "458     NYC  female  100.000000       True  \n",
       "962     NYC  female  100.000000       True  \n",
       "375  Albany    male  100.000000       True  \n",
       "114     NYC  female  100.000000       True  \n",
       "421  Albany  female  100.000000       True  \n",
       "171  Albany  female   99.000000       True  \n",
       "712     NYC  female   99.000000       True  \n",
       "179     NYC  female   99.000000       True  \n",
       "625     NYC    male   98.666667       True  \n",
       "165     NYC  female   98.666667       True  \n",
       "84   Albany    male   98.666667       True  \n",
       "903     NYC  female   97.666667       True  \n",
       "144  Albany  female   97.666667       True  \n",
       "685     NYC  female   97.666667       True  \n",
       "362  Albany  female   97.666667       True  \n",
       "149     NYC    male   97.666667       True  \n",
       "416  Albany  female   97.333333       True  \n",
       "957     NYC  female   97.333333       True  \n",
       "566     NYC  female   97.333333       True  \n",
       "25   Albany  female   97.333333       True  \n",
       "594     NYC  female   97.000000       True  \n",
       "717     NYC  female   97.000000       True  \n",
       "176  Albany  female   97.000000       True  \n",
       "53   Albany  female   97.000000       True  \n",
       "314  Albany  female   96.666667       True  \n",
       "855     NYC  female   96.666667       True  \n",
       "970     NYC  female   96.333333       True  \n",
       "5    Albany  female   96.333333       True  \n",
       "429  Albany  female   96.333333       True  \n",
       "..      ...     ...         ...        ...  \n",
       "245  Albany  female   76.000000       True  \n",
       "686     NYC    male   76.000000       True  \n",
       "95   Albany  female   76.000000       True  \n",
       "677     NYC  female   76.000000       True  \n",
       "687     NYC    male   76.000000       True  \n",
       "560     NYC  female   76.000000       True  \n",
       "19   Albany  female   76.000000       True  \n",
       "146  Albany    male   76.000000       True  \n",
       "145  Albany    male   76.000000       True  \n",
       "134     NYC    male   76.000000       True  \n",
       "583     NYC  female   76.000000       True  \n",
       "136  Albany  female   76.000000       True  \n",
       "58   Albany  female   76.000000       True  \n",
       "786     NYC  female   76.000000       True  \n",
       "599     NYC  female   76.000000       True  \n",
       "691     NYC  female   75.666667       True  \n",
       "693     NYC  female   75.666667       True  \n",
       "418  Albany    male   75.666667       True  \n",
       "676     NYC  female   75.666667       True  \n",
       "645     NYC  female   75.666667       True  \n",
       "104  Albany  female   75.666667       True  \n",
       "440     NYC  female   75.666667       True  \n",
       "150  Albany  female   75.666667       True  \n",
       "263  Albany  female   75.666667       True  \n",
       "843     NYC    male   75.666667       True  \n",
       "345     NYC  female   75.666667       True  \n",
       "152  Albany  female   75.666667       True  \n",
       "959     NYC    male   75.666667       True  \n",
       "135  Albany  female   75.666667       True  \n",
       "302  Albany    male   75.666667       True  \n",
       "\n",
       "[450 rows x 13 columns]"
      ]
     },
     "execution_count": 274,
     "metadata": {},
     "output_type": "execute_result"
    }
   ],
   "source": [
    "#Sort by Qualified. True at the top\n",
    "CleanSDFQualifies=CleanSDF.sort_values(by='Qualifies', inplace=False, ascending=False)\n",
    "\n",
    "#Sort those who Qualified by Avg Score to fing top 450\n",
    "CleanSDFTop450=CleanSDF.sort_values(by='Avg Score', inplace=False, ascending=False)\n",
    "CleanSDFTop450.head(450)"
   ]
  }
 ],
 "metadata": {
  "kernelspec": {
   "display_name": "Python 3",
   "language": "python",
   "name": "python3"
  },
  "language_info": {
   "codemirror_mode": {
    "name": "ipython",
    "version": 3
   },
   "file_extension": ".py",
   "mimetype": "text/x-python",
   "name": "python",
   "nbconvert_exporter": "python",
   "pygments_lexer": "ipython3",
   "version": "3.7.3"
  }
 },
 "nbformat": 4,
 "nbformat_minor": 2
}
